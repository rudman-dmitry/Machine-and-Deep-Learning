{
 "cells": [
  {
   "cell_type": "markdown",
   "metadata": {},
   "source": [
    "# HW: X-ray images classification\n",
    "--------------------------------------"
   ]
  },
  {
   "cell_type": "markdown",
   "metadata": {},
   "source": [
    "Before you begin, open Mobaxterm and connect to triton with the user and password you were give with. Activate the environment `2ndPaper` and then type the command `pip install scikit-image`."
   ]
  },
  {
   "cell_type": "markdown",
   "metadata": {},
   "source": [
    "In this assignment you will be dealing with classification of 32X32 X-ray images of the chest. The image can be classified into one of four options: lungs (l), clavicles (c), and heart (h) and background (b). Even though those labels are dependent, we will treat this task as multiclass and not as multilabel. The dataset for this assignment is located on a shared folder on triton (`/MLdata/MLcourse/X_ray/'`)."
   ]
  },
  {
   "cell_type": "code",
   "execution_count": 1,
   "metadata": {},
   "outputs": [
    {
     "name": "stdout",
     "output_type": "stream",
     "text": [
      "/opt/miniconda3/envs/2ndPaper-t2/bin/python\r\n"
     ]
    }
   ],
   "source": [
    "!which python"
   ]
  },
  {
   "cell_type": "code",
   "execution_count": 2,
   "metadata": {
    "pycharm": {
     "is_executing": false
    }
   },
   "outputs": [
    {
     "name": "stderr",
     "output_type": "stream",
     "text": [
      "/home/smorandv/anaconda3/envs/2ndPaper-t2/lib/python3.6/site-packages/tensorflow/python/framework/dtypes.py:526: FutureWarning: Passing (type, 1) or '1type' as a synonym of type is deprecated; in a future version of numpy, it will be understood as (type, (1,)) / '(1,)type'.\n",
      "  _np_qint8 = np.dtype([(\"qint8\", np.int8, 1)])\n",
      "/home/smorandv/anaconda3/envs/2ndPaper-t2/lib/python3.6/site-packages/tensorflow/python/framework/dtypes.py:527: FutureWarning: Passing (type, 1) or '1type' as a synonym of type is deprecated; in a future version of numpy, it will be understood as (type, (1,)) / '(1,)type'.\n",
      "  _np_quint8 = np.dtype([(\"quint8\", np.uint8, 1)])\n",
      "/home/smorandv/anaconda3/envs/2ndPaper-t2/lib/python3.6/site-packages/tensorflow/python/framework/dtypes.py:528: FutureWarning: Passing (type, 1) or '1type' as a synonym of type is deprecated; in a future version of numpy, it will be understood as (type, (1,)) / '(1,)type'.\n",
      "  _np_qint16 = np.dtype([(\"qint16\", np.int16, 1)])\n",
      "/home/smorandv/anaconda3/envs/2ndPaper-t2/lib/python3.6/site-packages/tensorflow/python/framework/dtypes.py:529: FutureWarning: Passing (type, 1) or '1type' as a synonym of type is deprecated; in a future version of numpy, it will be understood as (type, (1,)) / '(1,)type'.\n",
      "  _np_quint16 = np.dtype([(\"quint16\", np.uint16, 1)])\n",
      "/home/smorandv/anaconda3/envs/2ndPaper-t2/lib/python3.6/site-packages/tensorflow/python/framework/dtypes.py:530: FutureWarning: Passing (type, 1) or '1type' as a synonym of type is deprecated; in a future version of numpy, it will be understood as (type, (1,)) / '(1,)type'.\n",
      "  _np_qint32 = np.dtype([(\"qint32\", np.int32, 1)])\n",
      "/home/smorandv/anaconda3/envs/2ndPaper-t2/lib/python3.6/site-packages/tensorflow/python/framework/dtypes.py:535: FutureWarning: Passing (type, 1) or '1type' as a synonym of type is deprecated; in a future version of numpy, it will be understood as (type, (1,)) / '(1,)type'.\n",
      "  np_resource = np.dtype([(\"resource\", np.ubyte, 1)])\n"
     ]
    }
   ],
   "source": [
    "import os\n",
    "import numpy as np\n",
    "from tensorflow.keras.layers import Dense, MaxPool2D, Conv2D, Dropout\n",
    "from tensorflow.keras.layers import Flatten, InputLayer\n",
    "from tensorflow.keras.layers import BatchNormalization\n",
    "from tensorflow.keras.models import Sequential\n",
    "from tensorflow.keras.optimizers import *\n",
    "\n",
    "from tensorflow.keras.initializers import Constant\n",
    "from tensorflow.keras.datasets import fashion_mnist\n",
    "import tensorflow.keras.backend as K\n",
    "from tensorflow.keras import regularizers\n",
    "from tensorflow import keras\n",
    "from sklearn.model_selection import train_test_split\n",
    "from tensorflow.keras.layers import *\n",
    "from skimage.io import imread\n",
    "\n",
    "from skimage.transform import rescale, resize, downscale_local_mean\n",
    "%matplotlib inline\n",
    "import matplotlib as mpl\n",
    "import matplotlib.pyplot as plt\n",
    "mpl.rc('axes', labelsize=14)\n",
    "mpl.rc('xtick', labelsize=12)\n",
    "mpl.rc('ytick', labelsize=12)\n",
    "os.environ[\"CUDA_DEVICE_ORDER\"]=\"PCI_BUS_ID\" \n",
    "os.environ[\"CUDA_VISIBLE_DEVICES\"]=\"2\""
   ]
  },
  {
   "cell_type": "code",
   "execution_count": 3,
   "metadata": {
    "pycharm": {
     "is_executing": false
    }
   },
   "outputs": [],
   "source": [
    "import tensorflow as tf\n",
    "config = tf.compat.v1.ConfigProto(gpu_options =\n",
    "                         tf.compat.v1.GPUOptions(per_process_gpu_memory_fraction=0.8)\n",
    "# device_count = {'GPU': 1}\n",
    ")\n",
    "config.gpu_options.allow_growth = True\n",
    "session = tf.compat.v1.Session(config=config)\n",
    "tf.compat.v1.keras.backend.set_session(session)"
   ]
  },
  {
   "cell_type": "code",
   "execution_count": 4,
   "metadata": {
    "pycharm": {
     "is_executing": false
    }
   },
   "outputs": [],
   "source": [
    "def preprocess(datapath):\n",
    "    # This part reads the images\n",
    "    classes = ['b','c','l','h']\n",
    "    imagelist = [fn for fn in os.listdir(datapath)]\n",
    "    N = len(imagelist)\n",
    "    num_classes = len(classes)\n",
    "    images = np.zeros((N, 32, 32, 1))\n",
    "    Y = np.zeros((N,num_classes))\n",
    "    ii=0\n",
    "    for fn in imagelist:\n",
    "\n",
    "        src = imread(os.path.join(datapath, fn),1)\n",
    "        img = resize(src,(32,32),order = 3)\n",
    "        \n",
    "        images[ii,:,:,0] = img\n",
    "        cc = -1\n",
    "        for cl in range(len(classes)):\n",
    "            if fn[-5] == classes[cl]:\n",
    "                cc = cl\n",
    "        Y[ii,cc]=1\n",
    "        ii += 1\n",
    "\n",
    "    BaseImages = images\n",
    "    BaseY = Y\n",
    "    return BaseImages, BaseY"
   ]
  },
  {
   "cell_type": "code",
   "execution_count": 5,
   "metadata": {},
   "outputs": [],
   "source": [
    "def preprocess_train_and_val(datapath):\n",
    "    # This part reads the images\n",
    "    classes = ['b','c','l','h']\n",
    "    imagelist = [fn for fn in os.listdir(datapath)]\n",
    "    N = len(imagelist)\n",
    "    num_classes = len(classes)\n",
    "    images = np.zeros((N, 32, 32, 1))\n",
    "    Y = np.zeros((N,num_classes))\n",
    "    ii=0\n",
    "    for fn in imagelist:\n",
    "\n",
    "        images[ii,:,:,0] = imread(os.path.join(datapath, fn),1)\n",
    "        cc = -1\n",
    "        for cl in range(len(classes)):\n",
    "            if fn[-5] == classes[cl]:\n",
    "                cc = cl\n",
    "        Y[ii,cc]=1\n",
    "        ii += 1\n",
    "\n",
    "    return images, Y"
   ]
  },
  {
   "cell_type": "code",
   "execution_count": 6,
   "metadata": {},
   "outputs": [],
   "source": [
    "#Loading the data for training and validation:\n",
    "src_data = '/MLdata/MLcourse/X_ray/'\n",
    "train_path = src_data + 'train'\n",
    "val_path = src_data + 'validation'\n",
    "test_path = src_data + 'test'\n",
    "BaseX_train , BaseY_train = preprocess_train_and_val(train_path)\n",
    "BaseX_val , BaseY_val = preprocess_train_and_val(val_path)\n",
    "X_test, Y_test = preprocess(test_path)"
   ]
  },
  {
   "cell_type": "code",
   "execution_count": 7,
   "metadata": {},
   "outputs": [],
   "source": [
    "keras.backend.clear_session()"
   ]
  },
  {
   "cell_type": "markdown",
   "metadata": {},
   "source": [
    "### PART 1: Fully connected layers \n",
    "--------------------------------------"
   ]
  },
  {
   "cell_type": "markdown",
   "metadata": {},
   "source": [
    "---\n",
    "<span style=\"color:red\">***Task 1:***</span> *NN with fully connected layers. \n",
    "\n",
    "Elaborate a NN with 2 hidden fully connected layers with 300, 150 neurons and 4 neurons for classification. Use ReLU activation functions for the hidden layers and He_normal for initialization. Don't forget to flatten your image before feedforward to the first dense layer. Name the model `model_relu`.*\n",
    "\n",
    "---"
   ]
  },
  {
   "cell_type": "code",
   "execution_count": 8,
   "metadata": {},
   "outputs": [
    {
     "name": "stdout",
     "output_type": "stream",
     "text": [
      "WARNING:tensorflow:From /home/smorandv/anaconda3/envs/2ndPaper-t2/lib/python3.6/site-packages/tensorflow/python/ops/resource_variable_ops.py:435: colocate_with (from tensorflow.python.framework.ops) is deprecated and will be removed in a future version.\n",
      "Instructions for updating:\n",
      "Colocations handled automatically by placer.\n"
     ]
    }
   ],
   "source": [
    "#--------------------------Impelment your code here:-------------------------------------\n",
    "model_relu = Sequential()\n",
    "model_relu.add(Flatten(input_shape=(32,32,1)))\n",
    "model_relu.add(Dense(300,kernel_initializer=\"he_normal\", name='he_normal1'))\n",
    "model_relu.add(Dense(150, activation='relu', name='Relu_1'))\n",
    "model_relu.add(Dense(4, activation='relu', name='Relu_2'))\n",
    "model_relu.add(Activation('softmax'))\n",
    "#----------------------------------------------------------------------------------------"
   ]
  },
  {
   "cell_type": "code",
   "execution_count": 9,
   "metadata": {
    "scrolled": true
   },
   "outputs": [
    {
     "name": "stdout",
     "output_type": "stream",
     "text": [
      "_________________________________________________________________\n",
      "Layer (type)                 Output Shape              Param #   \n",
      "=================================================================\n",
      "flatten (Flatten)            (None, 1024)              0         \n",
      "_________________________________________________________________\n",
      "he_normal1 (Dense)           (None, 300)               307500    \n",
      "_________________________________________________________________\n",
      "Relu_1 (Dense)               (None, 150)               45150     \n",
      "_________________________________________________________________\n",
      "Relu_2 (Dense)               (None, 4)                 604       \n",
      "_________________________________________________________________\n",
      "activation (Activation)      (None, 4)                 0         \n",
      "=================================================================\n",
      "Total params: 353,254\n",
      "Trainable params: 353,254\n",
      "Non-trainable params: 0\n",
      "_________________________________________________________________\n"
     ]
    }
   ],
   "source": [
    "model_relu.summary()"
   ]
  },
  {
   "cell_type": "code",
   "execution_count": 10,
   "metadata": {},
   "outputs": [],
   "source": [
    "#Inputs: \n",
    "input_shape = (32,32,1)\n",
    "learn_rate = 1e-5\n",
    "decay = 0\n",
    "batch_size = 64\n",
    "epochs = 25\n",
    "\n",
    "#Define your optimizar parameters:\n",
    "AdamOpt = Adam(lr=learn_rate,decay=decay)\n"
   ]
  },
  {
   "cell_type": "markdown",
   "metadata": {},
   "source": [
    "Compile the model with the optimizer above, accuracy metric and adequate loss for multiclass task. Train your model on the training set and evaluate the model on the testing set. Print the accuracy and loss over the testing set."
   ]
  },
  {
   "cell_type": "code",
   "execution_count": 11,
   "metadata": {},
   "outputs": [
    {
     "name": "stdout",
     "output_type": "stream",
     "text": [
      "Train on 6474 samples, validate on 1728 samples\n",
      "WARNING:tensorflow:From /home/smorandv/anaconda3/envs/2ndPaper-t2/lib/python3.6/site-packages/tensorflow/python/ops/math_ops.py:3066: to_int32 (from tensorflow.python.ops.math_ops) is deprecated and will be removed in a future version.\n",
      "Instructions for updating:\n",
      "Use tf.cast instead.\n",
      "Epoch 1/25\n",
      "6474/6474 [==============================] - 1s 220us/sample - loss: 0.5342 - acc: 0.7586 - val_loss: 0.5001 - val_acc: 0.7726\n",
      "Epoch 2/25\n",
      "6474/6474 [==============================] - 1s 110us/sample - loss: 0.4821 - acc: 0.7778 - val_loss: 0.4685 - val_acc: 0.7834\n",
      "Epoch 3/25\n",
      "6474/6474 [==============================] - 1s 103us/sample - loss: 0.4507 - acc: 0.7892 - val_loss: 0.4351 - val_acc: 0.7993\n",
      "Epoch 4/25\n",
      "6474/6474 [==============================] - 1s 108us/sample - loss: 0.4231 - acc: 0.8063 - val_loss: 0.4145 - val_acc: 0.8170\n",
      "Epoch 5/25\n",
      "6474/6474 [==============================] - 1s 111us/sample - loss: 0.4047 - acc: 0.8181 - val_loss: 0.3990 - val_acc: 0.8296\n",
      "Epoch 6/25\n",
      "6474/6474 [==============================] - 1s 114us/sample - loss: 0.3913 - acc: 0.8278 - val_loss: 0.3877 - val_acc: 0.8352\n",
      "Epoch 7/25\n",
      "6474/6474 [==============================] - 1s 111us/sample - loss: 0.3799 - acc: 0.8363 - val_loss: 0.3764 - val_acc: 0.8433\n",
      "Epoch 8/25\n",
      "6474/6474 [==============================] - 1s 109us/sample - loss: 0.3694 - acc: 0.8441 - val_loss: 0.3679 - val_acc: 0.8500\n",
      "Epoch 9/25\n",
      "6474/6474 [==============================] - 1s 114us/sample - loss: 0.3610 - acc: 0.8507 - val_loss: 0.3609 - val_acc: 0.8547\n",
      "Epoch 10/25\n",
      "6474/6474 [==============================] - 1s 108us/sample - loss: 0.3533 - acc: 0.8558 - val_loss: 0.3540 - val_acc: 0.8594\n",
      "Epoch 11/25\n",
      "6474/6474 [==============================] - 1s 109us/sample - loss: 0.3453 - acc: 0.8615 - val_loss: 0.3473 - val_acc: 0.8641\n",
      "Epoch 12/25\n",
      "6474/6474 [==============================] - 1s 109us/sample - loss: 0.3386 - acc: 0.8658 - val_loss: 0.3415 - val_acc: 0.8666\n",
      "Epoch 13/25\n",
      "6474/6474 [==============================] - 1s 112us/sample - loss: 0.3318 - acc: 0.8686 - val_loss: 0.3360 - val_acc: 0.8707\n",
      "Epoch 14/25\n",
      "6474/6474 [==============================] - 1s 114us/sample - loss: 0.3260 - acc: 0.8720 - val_loss: 0.3309 - val_acc: 0.8717\n",
      "Epoch 15/25\n",
      "6474/6474 [==============================] - 1s 111us/sample - loss: 0.3203 - acc: 0.8750 - val_loss: 0.3262 - val_acc: 0.8733\n",
      "Epoch 16/25\n",
      "6474/6474 [==============================] - 1s 111us/sample - loss: 0.3152 - acc: 0.8775 - val_loss: 0.3221 - val_acc: 0.8744\n",
      "Epoch 17/25\n",
      "6474/6474 [==============================] - 1s 113us/sample - loss: 0.3108 - acc: 0.8801 - val_loss: 0.3176 - val_acc: 0.8766\n",
      "Epoch 18/25\n",
      "6474/6474 [==============================] - 1s 120us/sample - loss: 0.3059 - acc: 0.8826 - val_loss: 0.3130 - val_acc: 0.8777\n",
      "Epoch 19/25\n",
      "6474/6474 [==============================] - 1s 109us/sample - loss: 0.3017 - acc: 0.8831 - val_loss: 0.3088 - val_acc: 0.8806\n",
      "Epoch 20/25\n",
      "6474/6474 [==============================] - 1s 107us/sample - loss: 0.2973 - acc: 0.8859 - val_loss: 0.3045 - val_acc: 0.8850\n",
      "Epoch 21/25\n",
      "6474/6474 [==============================] - 1s 105us/sample - loss: 0.2931 - acc: 0.8872 - val_loss: 0.3014 - val_acc: 0.8857\n",
      "Epoch 22/25\n",
      "6474/6474 [==============================] - 1s 108us/sample - loss: 0.2898 - acc: 0.8891 - val_loss: 0.2971 - val_acc: 0.8876\n",
      "Epoch 23/25\n",
      "6474/6474 [==============================] - 1s 109us/sample - loss: 0.2858 - acc: 0.8908 - val_loss: 0.2948 - val_acc: 0.8886\n",
      "Epoch 24/25\n",
      "6474/6474 [==============================] - 1s 109us/sample - loss: 0.2821 - acc: 0.8925 - val_loss: 0.2902 - val_acc: 0.8896\n",
      "Epoch 25/25\n",
      "6474/6474 [==============================] - 1s 108us/sample - loss: 0.2788 - acc: 0.8940 - val_loss: 0.2867 - val_acc: 0.8906\n",
      "175/175 [==============================] - 0s 56us/sample - loss: 0.3797 - acc: 0.8314\n",
      "[test loss, test accuracy]: [0.3796639549732208, 0.8314286]\n"
     ]
    }
   ],
   "source": [
    "#--------------------------Impelment your code here:-------------------------------------\n",
    "model_relu.compile(optimizer=AdamOpt,metrics=['accuracy'], loss='binary_crossentropy')\n",
    "history_relu = model_relu.fit(BaseX_train, BaseY_train, batch_size = batch_size, epochs = epochs, validation_data = (BaseX_val,BaseY_val))\n",
    "y_pred_test = model_relu.predict(X_test)\n",
    "loss_and_acc = model_relu.evaluate(X_test, Y_test, batch_size=batch_size)\n",
    "print(\"[test loss, test accuracy]:\", loss_and_acc)\n",
    "#----------------------------------------------------------------------------------------"
   ]
  },
  {
   "cell_type": "markdown",
   "metadata": {},
   "source": [
    "---\n",
    "<span style=\"color:red\">***Task 2:***</span> *Activation functions.* \n",
    "\n",
    "Change the activation functions to LeakyRelu or tanh or sigmoid. Name the new model `new_a_model`. Explain how it can affect the model.*\n",
    "\n",
    "---"
   ]
  },
  {
   "cell_type": "code",
   "execution_count": 12,
   "metadata": {},
   "outputs": [],
   "source": [
    "#--------------------------Impelment your code here:-------------------------------------\n",
    "new_a_model = Sequential()\n",
    "new_a_model.add(Flatten(input_shape=(32,32,1)))\n",
    "new_a_model.add(Dense(300, kernel_initializer=\"he_normal\"))\n",
    "new_a_model.add(Dense(150, activation='tanh'))\n",
    "new_a_model.add(Dense(4, activation='tanh'))\n",
    "new_a_model.add(Activation('softmax'))\n",
    "#----------------------------------------------------------------------------------------"
   ]
  },
  {
   "cell_type": "code",
   "execution_count": 13,
   "metadata": {},
   "outputs": [
    {
     "name": "stdout",
     "output_type": "stream",
     "text": [
      "_________________________________________________________________\n",
      "Layer (type)                 Output Shape              Param #   \n",
      "=================================================================\n",
      "flatten_1 (Flatten)          (None, 1024)              0         \n",
      "_________________________________________________________________\n",
      "dense (Dense)                (None, 300)               307500    \n",
      "_________________________________________________________________\n",
      "dense_1 (Dense)              (None, 150)               45150     \n",
      "_________________________________________________________________\n",
      "dense_2 (Dense)              (None, 4)                 604       \n",
      "_________________________________________________________________\n",
      "activation_1 (Activation)    (None, 4)                 0         \n",
      "=================================================================\n",
      "Total params: 353,254\n",
      "Trainable params: 353,254\n",
      "Non-trainable params: 0\n",
      "_________________________________________________________________\n"
     ]
    }
   ],
   "source": [
    "new_a_model.summary()"
   ]
  },
  {
   "cell_type": "markdown",
   "metadata": {},
   "source": [
    "---\n",
    "<span style=\"color:red\">***Task 3:***</span> *Number of epochs.* \n",
    "\n",
    "Train the new model using 25 and 40 epochs. What difference does it makes in term of performance? Remember to save the compiled model for having initialized weights for every run as we did in tutorial 12. Evaluate each trained model on the test set*\n",
    "\n",
    "---"
   ]
  },
  {
   "cell_type": "code",
   "execution_count": 14,
   "metadata": {},
   "outputs": [],
   "source": [
    "#Inputs: \n",
    "input_shape = (32,32,1)\n",
    "learn_rate = 1e-5\n",
    "decay = 0\n",
    "batch_size = 64\n",
    "epochs = 25\n",
    "\n",
    "#Defining the optimizar parameters:\n",
    "AdamOpt = Adam(lr=learn_rate,decay=decay)\n",
    "\n"
   ]
  },
  {
   "cell_type": "code",
   "execution_count": 15,
   "metadata": {},
   "outputs": [
    {
     "name": "stdout",
     "output_type": "stream",
     "text": [
      "Train on 6474 samples, validate on 1728 samples\n",
      "Epoch 1/25\n",
      "6474/6474 [==============================] - 1s 142us/sample - loss: 0.5197 - acc: 0.7532 - val_loss: 0.4834 - val_acc: 0.7662\n",
      "Epoch 2/25\n",
      "6474/6474 [==============================] - 1s 105us/sample - loss: 0.4693 - acc: 0.7731 - val_loss: 0.4536 - val_acc: 0.7880\n",
      "Epoch 3/25\n",
      "6474/6474 [==============================] - 1s 108us/sample - loss: 0.4462 - acc: 0.7894 - val_loss: 0.4367 - val_acc: 0.7962\n",
      "Epoch 4/25\n",
      "6474/6474 [==============================] - 1s 109us/sample - loss: 0.4305 - acc: 0.7996 - val_loss: 0.4240 - val_acc: 0.8044\n",
      "Epoch 5/25\n",
      "6474/6474 [==============================] - 1s 118us/sample - loss: 0.4186 - acc: 0.8068 - val_loss: 0.4144 - val_acc: 0.8122\n",
      "Epoch 6/25\n",
      "6474/6474 [==============================] - 1s 115us/sample - loss: 0.4095 - acc: 0.8157 - val_loss: 0.4070 - val_acc: 0.8210\n",
      "Epoch 7/25\n",
      "6474/6474 [==============================] - 1s 115us/sample - loss: 0.4018 - acc: 0.8241 - val_loss: 0.4003 - val_acc: 0.8283\n",
      "Epoch 8/25\n",
      "6474/6474 [==============================] - 1s 112us/sample - loss: 0.3952 - acc: 0.8318 - val_loss: 0.3944 - val_acc: 0.8358\n",
      "Epoch 9/25\n",
      "6474/6474 [==============================] - 1s 113us/sample - loss: 0.3894 - acc: 0.8377 - val_loss: 0.3895 - val_acc: 0.8435\n",
      "Epoch 10/25\n",
      "6474/6474 [==============================] - 1s 109us/sample - loss: 0.3841 - acc: 0.8435 - val_loss: 0.3842 - val_acc: 0.8487\n",
      "Epoch 11/25\n",
      "6474/6474 [==============================] - 1s 108us/sample - loss: 0.3795 - acc: 0.8501 - val_loss: 0.3806 - val_acc: 0.8537\n",
      "Epoch 12/25\n",
      "6474/6474 [==============================] - 1s 108us/sample - loss: 0.3756 - acc: 0.8539 - val_loss: 0.3766 - val_acc: 0.8569\n",
      "Epoch 13/25\n",
      "6474/6474 [==============================] - 1s 108us/sample - loss: 0.3717 - acc: 0.8575 - val_loss: 0.3736 - val_acc: 0.8588\n",
      "Epoch 14/25\n",
      "6474/6474 [==============================] - 1s 109us/sample - loss: 0.3677 - acc: 0.8613 - val_loss: 0.3705 - val_acc: 0.8605\n",
      "Epoch 15/25\n",
      "6474/6474 [==============================] - 1s 111us/sample - loss: 0.3647 - acc: 0.8636 - val_loss: 0.3671 - val_acc: 0.8633\n",
      "Epoch 16/25\n",
      "6474/6474 [==============================] - 1s 112us/sample - loss: 0.3614 - acc: 0.8661 - val_loss: 0.3651 - val_acc: 0.8639\n",
      "Epoch 17/25\n",
      "6474/6474 [==============================] - 1s 110us/sample - loss: 0.3589 - acc: 0.8675 - val_loss: 0.3614 - val_acc: 0.8686\n",
      "Epoch 18/25\n",
      "6474/6474 [==============================] - 1s 110us/sample - loss: 0.3556 - acc: 0.8711 - val_loss: 0.3591 - val_acc: 0.8699\n",
      "Epoch 19/25\n",
      "6474/6474 [==============================] - 1s 110us/sample - loss: 0.3529 - acc: 0.8726 - val_loss: 0.3576 - val_acc: 0.8717\n",
      "Epoch 20/25\n",
      "6474/6474 [==============================] - 1s 113us/sample - loss: 0.3505 - acc: 0.8748 - val_loss: 0.3537 - val_acc: 0.8736\n",
      "Epoch 21/25\n",
      "6474/6474 [==============================] - 1s 111us/sample - loss: 0.3482 - acc: 0.8754 - val_loss: 0.3530 - val_acc: 0.8738\n",
      "Epoch 22/25\n",
      "6474/6474 [==============================] - 1s 106us/sample - loss: 0.3458 - acc: 0.8771 - val_loss: 0.3500 - val_acc: 0.8776\n",
      "Epoch 23/25\n",
      "6474/6474 [==============================] - 1s 112us/sample - loss: 0.3435 - acc: 0.8800 - val_loss: 0.3482 - val_acc: 0.8775\n",
      "Epoch 24/25\n",
      "6474/6474 [==============================] - 1s 117us/sample - loss: 0.3414 - acc: 0.8818 - val_loss: 0.3473 - val_acc: 0.8791\n",
      "Epoch 25/25\n",
      "6474/6474 [==============================] - 1s 113us/sample - loss: 0.3396 - acc: 0.8824 - val_loss: 0.3444 - val_acc: 0.8808\n",
      "175/175 [==============================] - 0s 52us/sample - loss: 0.4159 - acc: 0.8371\n",
      "[test loss, test accuracy]: [0.415913485629218, 0.8371429]\n"
     ]
    }
   ],
   "source": [
    "#--------------------------Impelment your code here:-------------------------------------\n",
    "new_a_model.compile(optimizer=AdamOpt,metrics=['accuracy'], loss='binary_crossentropy')\n",
    "history_a_model = new_a_model.fit(BaseX_train, BaseY_train, batch_size = batch_size, epochs = epochs, validation_data = (BaseX_val,BaseY_val))\n",
    "y_pred_test = new_a_model.predict(X_test)\n",
    "loss_and_acc = new_a_model.evaluate(X_test, Y_test, batch_size=batch_size)\n",
    "print(\"[test loss, test accuracy]:\", loss_and_acc)\n",
    "#-----------------------------------------------------------------------------------------"
   ]
  },
  {
   "cell_type": "code",
   "execution_count": 16,
   "metadata": {},
   "outputs": [],
   "source": [
    "#Inputs: \n",
    "input_shape = (32,32,1)\n",
    "learn_rate = 1e-5\n",
    "decay = 0\n",
    "batch_size = 64\n",
    "epochs = 40\n",
    "\n",
    "#Defining the optimizar parameters:\n",
    "AdamOpt = Adam(lr=learn_rate,decay=decay)\n",
    "\n"
   ]
  },
  {
   "cell_type": "code",
   "execution_count": 17,
   "metadata": {
    "scrolled": true
   },
   "outputs": [
    {
     "name": "stdout",
     "output_type": "stream",
     "text": [
      "Train on 6474 samples, validate on 1728 samples\n",
      "Epoch 1/40\n",
      "6474/6474 [==============================] - 1s 165us/sample - loss: 0.3375 - acc: 0.8840 - val_loss: 0.3424 - val_acc: 0.8801\n",
      "Epoch 2/40\n",
      "6474/6474 [==============================] - 1s 112us/sample - loss: 0.3352 - acc: 0.8859 - val_loss: 0.3407 - val_acc: 0.8841\n",
      "Epoch 3/40\n",
      "6474/6474 [==============================] - 1s 109us/sample - loss: 0.3334 - acc: 0.8870 - val_loss: 0.3395 - val_acc: 0.8870\n",
      "Epoch 4/40\n",
      "6474/6474 [==============================] - 1s 112us/sample - loss: 0.3313 - acc: 0.8887 - val_loss: 0.3384 - val_acc: 0.8828\n",
      "Epoch 5/40\n",
      "6474/6474 [==============================] - 1s 117us/sample - loss: 0.3299 - acc: 0.8887 - val_loss: 0.3354 - val_acc: 0.8872\n",
      "Epoch 6/40\n",
      "6474/6474 [==============================] - 1s 110us/sample - loss: 0.3279 - acc: 0.8906 - val_loss: 0.3349 - val_acc: 0.8880\n",
      "Epoch 7/40\n",
      "6474/6474 [==============================] - 1s 112us/sample - loss: 0.3261 - acc: 0.8912 - val_loss: 0.3324 - val_acc: 0.8909\n",
      "Epoch 8/40\n",
      "6474/6474 [==============================] - 1s 112us/sample - loss: 0.3246 - acc: 0.8921 - val_loss: 0.3305 - val_acc: 0.8890\n",
      "Epoch 9/40\n",
      "6474/6474 [==============================] - 1s 111us/sample - loss: 0.3229 - acc: 0.8937 - val_loss: 0.3297 - val_acc: 0.8925\n",
      "Epoch 10/40\n",
      "6474/6474 [==============================] - 1s 118us/sample - loss: 0.3211 - acc: 0.8953 - val_loss: 0.3284 - val_acc: 0.8927\n",
      "Epoch 11/40\n",
      "6474/6474 [==============================] - 1s 111us/sample - loss: 0.3198 - acc: 0.8957 - val_loss: 0.3266 - val_acc: 0.8908\n",
      "Epoch 12/40\n",
      "6474/6474 [==============================] - 1s 109us/sample - loss: 0.3184 - acc: 0.8972 - val_loss: 0.3250 - val_acc: 0.8921\n",
      "Epoch 13/40\n",
      "6474/6474 [==============================] - 1s 110us/sample - loss: 0.3167 - acc: 0.8984 - val_loss: 0.3235 - val_acc: 0.8944\n",
      "Epoch 14/40\n",
      "6474/6474 [==============================] - 1s 110us/sample - loss: 0.3152 - acc: 0.8988 - val_loss: 0.3223 - val_acc: 0.8937\n",
      "Epoch 15/40\n",
      "6474/6474 [==============================] - 1s 116us/sample - loss: 0.3137 - acc: 0.9001 - val_loss: 0.3215 - val_acc: 0.8961\n",
      "Epoch 16/40\n",
      "6474/6474 [==============================] - 1s 109us/sample - loss: 0.3124 - acc: 0.9008 - val_loss: 0.3196 - val_acc: 0.8951\n",
      "Epoch 17/40\n",
      "6474/6474 [==============================] - 1s 103us/sample - loss: 0.3111 - acc: 0.9020 - val_loss: 0.3185 - val_acc: 0.8968\n",
      "Epoch 18/40\n",
      "6474/6474 [==============================] - 1s 107us/sample - loss: 0.3096 - acc: 0.9032 - val_loss: 0.3172 - val_acc: 0.8971\n",
      "Epoch 19/40\n",
      "6474/6474 [==============================] - 1s 108us/sample - loss: 0.3081 - acc: 0.9042 - val_loss: 0.3162 - val_acc: 0.9002\n",
      "Epoch 20/40\n",
      "6474/6474 [==============================] - 1s 111us/sample - loss: 0.3068 - acc: 0.9052 - val_loss: 0.3148 - val_acc: 0.8973\n",
      "Epoch 21/40\n",
      "6474/6474 [==============================] - 1s 110us/sample - loss: 0.3057 - acc: 0.9060 - val_loss: 0.3136 - val_acc: 0.9025\n",
      "Epoch 22/40\n",
      "6474/6474 [==============================] - 1s 108us/sample - loss: 0.3043 - acc: 0.9077 - val_loss: 0.3119 - val_acc: 0.9023\n",
      "Epoch 23/40\n",
      "6474/6474 [==============================] - 1s 107us/sample - loss: 0.3028 - acc: 0.9088 - val_loss: 0.3107 - val_acc: 0.9028\n",
      "Epoch 24/40\n",
      "6474/6474 [==============================] - 1s 113us/sample - loss: 0.3018 - acc: 0.9086 - val_loss: 0.3095 - val_acc: 0.9025\n",
      "Epoch 25/40\n",
      "6474/6474 [==============================] - 1s 113us/sample - loss: 0.3005 - acc: 0.9097 - val_loss: 0.3083 - val_acc: 0.9028\n",
      "Epoch 26/40\n",
      "6474/6474 [==============================] - 1s 108us/sample - loss: 0.2993 - acc: 0.9105 - val_loss: 0.3074 - val_acc: 0.9064\n",
      "Epoch 27/40\n",
      "6474/6474 [==============================] - 1s 109us/sample - loss: 0.2982 - acc: 0.9114 - val_loss: 0.3065 - val_acc: 0.9065\n",
      "Epoch 28/40\n",
      "6474/6474 [==============================] - 1s 104us/sample - loss: 0.2974 - acc: 0.9121 - val_loss: 0.3053 - val_acc: 0.9084\n",
      "Epoch 29/40\n",
      "6474/6474 [==============================] - 1s 106us/sample - loss: 0.2960 - acc: 0.9131 - val_loss: 0.3047 - val_acc: 0.9073\n",
      "Epoch 30/40\n",
      "6474/6474 [==============================] - 1s 104us/sample - loss: 0.2949 - acc: 0.9142 - val_loss: 0.3035 - val_acc: 0.9081\n",
      "Epoch 31/40\n",
      "6474/6474 [==============================] - 1s 105us/sample - loss: 0.2939 - acc: 0.9148 - val_loss: 0.3033 - val_acc: 0.9109\n",
      "Epoch 32/40\n",
      "6474/6474 [==============================] - 1s 105us/sample - loss: 0.2928 - acc: 0.9155 - val_loss: 0.3015 - val_acc: 0.9100\n",
      "Epoch 33/40\n",
      "6474/6474 [==============================] - 1s 105us/sample - loss: 0.2919 - acc: 0.9161 - val_loss: 0.3008 - val_acc: 0.9110\n",
      "Epoch 34/40\n",
      "6474/6474 [==============================] - 1s 111us/sample - loss: 0.2910 - acc: 0.9170 - val_loss: 0.3004 - val_acc: 0.9110\n",
      "Epoch 35/40\n",
      "6474/6474 [==============================] - 1s 104us/sample - loss: 0.2900 - acc: 0.9169 - val_loss: 0.2990 - val_acc: 0.9100\n",
      "Epoch 36/40\n",
      "6474/6474 [==============================] - 1s 105us/sample - loss: 0.2893 - acc: 0.9181 - val_loss: 0.2979 - val_acc: 0.9129\n",
      "Epoch 37/40\n",
      "6474/6474 [==============================] - 1s 104us/sample - loss: 0.2883 - acc: 0.9186 - val_loss: 0.2976 - val_acc: 0.9133\n",
      "Epoch 38/40\n",
      "6474/6474 [==============================] - 1s 109us/sample - loss: 0.2873 - acc: 0.9193 - val_loss: 0.2965 - val_acc: 0.9128\n",
      "Epoch 39/40\n",
      "6474/6474 [==============================] - 1s 108us/sample - loss: 0.2866 - acc: 0.9197 - val_loss: 0.2963 - val_acc: 0.9139\n",
      "Epoch 40/40\n",
      "6474/6474 [==============================] - 1s 107us/sample - loss: 0.2859 - acc: 0.9210 - val_loss: 0.2945 - val_acc: 0.9136\n",
      "175/175 [==============================] - 0s 55us/sample - loss: 0.3966 - acc: 0.8500\n",
      "[test loss, test accuracy]: [0.3965928738457816, 0.85]\n"
     ]
    }
   ],
   "source": [
    "#--------------------------Impelment your code here:-------------------------------------\n",
    "new_a_model.compile(optimizer=AdamOpt,metrics=['accuracy'], loss='binary_crossentropy')\n",
    "history = new_a_model.fit(BaseX_train, BaseY_train, batch_size = batch_size, epochs = epochs, validation_data = (BaseX_val,BaseY_val))\n",
    "y_pred_test = new_a_model.predict(X_test)\n",
    "loss_and_acc = new_a_model.evaluate(X_test, Y_test, batch_size=batch_size)\n",
    "print(\"[test loss, test accuracy]:\", loss_and_acc)\n",
    "#-----------------------------------------------------------------------------------------"
   ]
  },
  {
   "cell_type": "code",
   "execution_count": 18,
   "metadata": {},
   "outputs": [
    {
     "data": {
      "text/plain": [
       "dict_keys(['loss', 'acc', 'val_loss', 'val_acc'])"
      ]
     },
     "execution_count": 18,
     "metadata": {},
     "output_type": "execute_result"
    }
   ],
   "source": [
    "history.history.keys()"
   ]
  },
  {
   "cell_type": "code",
   "execution_count": 19,
   "metadata": {},
   "outputs": [
    {
     "data": {
      "image/png": "[encoded data removed]",
      "text/plain": [
       "<Figure size 864x360 with 2 Axes>"
      ]
     },
     "metadata": {
      "needs_background": "light"
     },
     "output_type": "display_data"
    }
   ],
   "source": [
    "fig, axs = plt.subplots(1, 2, figsize=(12,5))\n",
    "\n",
    "axs[0].plot(history.history['acc'])\n",
    "axs[0].plot(history.history['val_acc'])\n",
    "axs[0].set_title('model accuracy')\n",
    "axs[0].set_ylabel('accuracy')\n",
    "axs[0].set_xlabel('epoch')\n",
    "axs[0].legend(['train', 'val'], loc='lower right')\n",
    "\n",
    "\n",
    "axs[1].plot(history.history['loss'])\n",
    "axs[1].plot(history.history['val_loss'])\n",
    "axs[1].set_title('model loss')\n",
    "axs[1].set_ylabel('loss')\n",
    "axs[1].set_xlabel('epoch')\n",
    "axs[1].legend(['train', 'val'], loc='upper right')\n",
    "\n",
    "plt.tight_layout()"
   ]
  },
  {
   "cell_type": "markdown",
   "metadata": {},
   "source": [
    "---\n",
    "<span style=\"color:red\">***Task 4:***</span> *Mini-batches.* \n",
    "\n",
    "Build the `model_relu` again and run it with a batch size of 32 instead of 64. What are the advantages of the mini-batch vs. SGD?*\n",
    "\n",
    "---"
   ]
  },
  {
   "cell_type": "code",
   "execution_count": 20,
   "metadata": {},
   "outputs": [],
   "source": [
    "keras.backend.clear_session()"
   ]
  },
  {
   "cell_type": "code",
   "execution_count": 21,
   "metadata": {},
   "outputs": [],
   "source": [
    "#--------------------------Impelment your code here:-------------------------------------\n",
    "model_relu = Sequential()\n",
    "model_relu.add(Flatten(input_shape=(32,32,1)))\n",
    "model_relu.add(Dense(300,kernel_initializer=\"he_normal\"))\n",
    "model_relu.add(Dense(150, activation='relu'))\n",
    "model_relu.add(Dense(4, activation='relu'))\n",
    "model_relu.add(Activation('softmax'))\n",
    "#----------------------------------------------------------------------------------------"
   ]
  },
  {
   "cell_type": "code",
   "execution_count": 22,
   "metadata": {},
   "outputs": [],
   "source": [
    "batch_size = 32\n",
    "epochs = 50\n",
    "\n",
    "#Define your optimizar parameters:\n",
    "AdamOpt = Adam(lr=learn_rate,decay=decay)\n"
   ]
  },
  {
   "cell_type": "code",
   "execution_count": 23,
   "metadata": {},
   "outputs": [
    {
     "name": "stdout",
     "output_type": "stream",
     "text": [
      "Train on 6474 samples, validate on 1728 samples\n",
      "Epoch 1/50\n",
      "6474/6474 [==============================] - 2s 242us/sample - loss: 0.5429 - acc: 0.7553 - val_loss: 0.5200 - val_acc: 0.7643\n",
      "Epoch 2/50\n",
      "6474/6474 [==============================] - 1s 206us/sample - loss: 0.5133 - acc: 0.7685 - val_loss: 0.5020 - val_acc: 0.7802\n",
      "Epoch 3/50\n",
      "6474/6474 [==============================] - 1s 209us/sample - loss: 0.4986 - acc: 0.7792 - val_loss: 0.4911 - val_acc: 0.7852\n",
      "Epoch 4/50\n",
      "6474/6474 [==============================] - 1s 208us/sample - loss: 0.4882 - acc: 0.7881 - val_loss: 0.4815 - val_acc: 0.7977\n",
      "Epoch 5/50\n",
      "6474/6474 [==============================] - 1s 203us/sample - loss: 0.4797 - acc: 0.7956 - val_loss: 0.4747 - val_acc: 0.8002\n",
      "Epoch 6/50\n",
      "6474/6474 [==============================] - 1s 209us/sample - loss: 0.4721 - acc: 0.8009 - val_loss: 0.4677 - val_acc: 0.8056\n",
      "Epoch 7/50\n",
      "6474/6474 [==============================] - 1s 213us/sample - loss: 0.4659 - acc: 0.8051 - val_loss: 0.4618 - val_acc: 0.8079\n",
      "Epoch 8/50\n",
      "6474/6474 [==============================] - 1s 212us/sample - loss: 0.4600 - acc: 0.8084 - val_loss: 0.4574 - val_acc: 0.8115\n",
      "Epoch 9/50\n",
      "6474/6474 [==============================] - 1s 182us/sample - loss: 0.4547 - acc: 0.8115 - val_loss: 0.4518 - val_acc: 0.8142\n",
      "Epoch 10/50\n",
      "6474/6474 [==============================] - 1s 194us/sample - loss: 0.4502 - acc: 0.8138 - val_loss: 0.4472 - val_acc: 0.8152\n",
      "Epoch 11/50\n",
      "6474/6474 [==============================] - 1s 171us/sample - loss: 0.4462 - acc: 0.8157 - val_loss: 0.4440 - val_acc: 0.8161\n",
      "Epoch 12/50\n",
      "6474/6474 [==============================] - 1s 178us/sample - loss: 0.4425 - acc: 0.8172 - val_loss: 0.4402 - val_acc: 0.8176\n",
      "Epoch 13/50\n",
      "6474/6474 [==============================] - 1s 200us/sample - loss: 0.4391 - acc: 0.8184 - val_loss: 0.4378 - val_acc: 0.8183\n",
      "Epoch 14/50\n",
      "6474/6474 [==============================] - 1s 210us/sample - loss: 0.4361 - acc: 0.8194 - val_loss: 0.4346 - val_acc: 0.8202\n",
      "Epoch 15/50\n",
      "6474/6474 [==============================] - 1s 215us/sample - loss: 0.4334 - acc: 0.8205 - val_loss: 0.4333 - val_acc: 0.8216\n",
      "Epoch 16/50\n",
      "6474/6474 [==============================] - 1s 223us/sample - loss: 0.4308 - acc: 0.8219 - val_loss: 0.4298 - val_acc: 0.8226\n",
      "Epoch 17/50\n",
      "6474/6474 [==============================] - 1s 214us/sample - loss: 0.4280 - acc: 0.8226 - val_loss: 0.4272 - val_acc: 0.8231\n",
      "Epoch 18/50\n",
      "6474/6474 [==============================] - 1s 221us/sample - loss: 0.4255 - acc: 0.8238 - val_loss: 0.4257 - val_acc: 0.8235\n",
      "Epoch 19/50\n",
      "6474/6474 [==============================] - 1s 214us/sample - loss: 0.4232 - acc: 0.8250 - val_loss: 0.4227 - val_acc: 0.8254\n",
      "Epoch 20/50\n",
      "6474/6474 [==============================] - 1s 221us/sample - loss: 0.4212 - acc: 0.8254 - val_loss: 0.4207 - val_acc: 0.8260\n",
      "Epoch 21/50\n",
      "6474/6474 [==============================] - 1s 214us/sample - loss: 0.4189 - acc: 0.8265 - val_loss: 0.4195 - val_acc: 0.8255\n",
      "Epoch 22/50\n",
      "6474/6474 [==============================] - 1s 201us/sample - loss: 0.4170 - acc: 0.8277 - val_loss: 0.4183 - val_acc: 0.8260\n",
      "Epoch 23/50\n",
      "6474/6474 [==============================] - 1s 197us/sample - loss: 0.4152 - acc: 0.8278 - val_loss: 0.4156 - val_acc: 0.8274\n",
      "Epoch 24/50\n",
      "6474/6474 [==============================] - 1s 204us/sample - loss: 0.4134 - acc: 0.8289 - val_loss: 0.4147 - val_acc: 0.8270\n",
      "Epoch 25/50\n",
      "6474/6474 [==============================] - 1s 210us/sample - loss: 0.4117 - acc: 0.8296 - val_loss: 0.4124 - val_acc: 0.8288\n",
      "Epoch 26/50\n",
      "6474/6474 [==============================] - 1s 204us/sample - loss: 0.4102 - acc: 0.8298 - val_loss: 0.4113 - val_acc: 0.8290\n",
      "Epoch 27/50\n",
      "6474/6474 [==============================] - 1s 223us/sample - loss: 0.4087 - acc: 0.8307 - val_loss: 0.4091 - val_acc: 0.8303\n",
      "Epoch 28/50\n",
      "6474/6474 [==============================] - 1s 221us/sample - loss: 0.4072 - acc: 0.8307 - val_loss: 0.4078 - val_acc: 0.8304\n",
      "Epoch 29/50\n",
      "6474/6474 [==============================] - 1s 215us/sample - loss: 0.4057 - acc: 0.8311 - val_loss: 0.4071 - val_acc: 0.8312\n",
      "Epoch 30/50\n",
      "6474/6474 [==============================] - 1s 207us/sample - loss: 0.4042 - acc: 0.8318 - val_loss: 0.4057 - val_acc: 0.8310\n",
      "Epoch 31/50\n",
      "6474/6474 [==============================] - 1s 207us/sample - loss: 0.4031 - acc: 0.8326 - val_loss: 0.4048 - val_acc: 0.8303\n",
      "Epoch 32/50\n",
      "6474/6474 [==============================] - 1s 200us/sample - loss: 0.4020 - acc: 0.8330 - val_loss: 0.4029 - val_acc: 0.8309\n",
      "Epoch 33/50\n",
      "6474/6474 [==============================] - 1s 224us/sample - loss: 0.4005 - acc: 0.8332 - val_loss: 0.4016 - val_acc: 0.8326\n",
      "Epoch 34/50\n",
      "6474/6474 [==============================] - 1s 224us/sample - loss: 0.3991 - acc: 0.8339 - val_loss: 0.4006 - val_acc: 0.8313\n",
      "Epoch 35/50\n",
      "6474/6474 [==============================] - 1s 215us/sample - loss: 0.3984 - acc: 0.8342 - val_loss: 0.3994 - val_acc: 0.8336\n",
      "Epoch 36/50\n",
      "6474/6474 [==============================] - 1s 216us/sample - loss: 0.3970 - acc: 0.8348 - val_loss: 0.3988 - val_acc: 0.8345\n",
      "Epoch 37/50\n",
      "6474/6474 [==============================] - 1s 216us/sample - loss: 0.3959 - acc: 0.8352 - val_loss: 0.3993 - val_acc: 0.8330\n",
      "Epoch 38/50\n",
      "6474/6474 [==============================] - 1s 206us/sample - loss: 0.3951 - acc: 0.8361 - val_loss: 0.3970 - val_acc: 0.8342\n",
      "Epoch 39/50\n",
      "6474/6474 [==============================] - 1s 204us/sample - loss: 0.3940 - acc: 0.8359 - val_loss: 0.3964 - val_acc: 0.8339\n",
      "Epoch 40/50\n",
      "6474/6474 [==============================] - 1s 201us/sample - loss: 0.3930 - acc: 0.8364 - val_loss: 0.3956 - val_acc: 0.8345\n",
      "Epoch 41/50\n",
      "6474/6474 [==============================] - 1s 202us/sample - loss: 0.3920 - acc: 0.8370 - val_loss: 0.3953 - val_acc: 0.8346\n",
      "Epoch 42/50\n",
      "6474/6474 [==============================] - 1s 199us/sample - loss: 0.3913 - acc: 0.8370 - val_loss: 0.3941 - val_acc: 0.8345\n",
      "Epoch 43/50\n",
      "6474/6474 [==============================] - 1s 212us/sample - loss: 0.3902 - acc: 0.8377 - val_loss: 0.3927 - val_acc: 0.8355\n",
      "Epoch 44/50\n",
      "6474/6474 [==============================] - 1s 218us/sample - loss: 0.3892 - acc: 0.8379 - val_loss: 0.3927 - val_acc: 0.8346\n",
      "Epoch 45/50\n",
      "6474/6474 [==============================] - 1s 216us/sample - loss: 0.3887 - acc: 0.8377 - val_loss: 0.3916 - val_acc: 0.8361\n",
      "Epoch 46/50\n",
      "6474/6474 [==============================] - 1s 219us/sample - loss: 0.3878 - acc: 0.8385 - val_loss: 0.3906 - val_acc: 0.8362\n",
      "Epoch 47/50\n",
      "6474/6474 [==============================] - 1s 221us/sample - loss: 0.3871 - acc: 0.8382 - val_loss: 0.3909 - val_acc: 0.8356\n",
      "Epoch 48/50\n",
      "6474/6474 [==============================] - 1s 208us/sample - loss: 0.3862 - acc: 0.8385 - val_loss: 0.3884 - val_acc: 0.8374\n",
      "Epoch 49/50\n",
      "6474/6474 [==============================] - 1s 212us/sample - loss: 0.3857 - acc: 0.8392 - val_loss: 0.3883 - val_acc: 0.8356\n",
      "Epoch 50/50\n",
      "6474/6474 [==============================] - 1s 212us/sample - loss: 0.3848 - acc: 0.8394 - val_loss: 0.3869 - val_acc: 0.8374\n",
      "175/175 [==============================] - 0s 92us/sample - loss: 0.4153 - acc: 0.8229\n",
      "[test loss, test accuracy]: [0.41527373892920355, 0.82285714]\n"
     ]
    }
   ],
   "source": [
    "#--------------------------Impelment your code here:-------------------------------------\n",
    "model_relu.compile(optimizer=AdamOpt,metrics=['accuracy'], loss='binary_crossentropy')\n",
    "history_relu = model_relu.fit(BaseX_train, BaseY_train, batch_size = batch_size, epochs = epochs, validation_data = (BaseX_val,BaseY_val))\n",
    "y_pred_test = model_relu.predict(X_test)\n",
    "loss_and_acc = model_relu.evaluate(X_test, Y_test, batch_size=batch_size)\n",
    "print(\"[test loss, test accuracy]:\", loss_and_acc)\n",
    "#----------------------------------------------------------------------------------------"
   ]
  },
  {
   "cell_type": "markdown",
   "metadata": {},
   "source": [
    "---\n",
    "<span style=\"color:red\">***Task 4:***</span> *Batch normalization.* \n",
    "\n",
    "Build the `new_a_model` again and add batch normalization layers. How does it impact your results?*\n",
    "\n",
    "---"
   ]
  },
  {
   "cell_type": "code",
   "execution_count": 24,
   "metadata": {},
   "outputs": [],
   "source": [
    "keras.backend.clear_session()"
   ]
  },
  {
   "cell_type": "code",
   "execution_count": 25,
   "metadata": {},
   "outputs": [],
   "source": [
    "#--------------------------Impelment your code here:-------------------------------------\n",
    "new_a_model = Sequential()\n",
    "new_a_model.add(Flatten(input_shape=(32,32,1)))\n",
    "new_a_model.add(Dense(300,kernel_initializer=\"he_normal\"))\n",
    "new_a_model.add(BatchNormalization())\n",
    "new_a_model.add(Dense(150, activation='sigmoid'))\n",
    "new_a_model.add(BatchNormalization())\n",
    "new_a_model.add(Dense(4, activation='sigmoid'))\n",
    "new_a_model.add(BatchNormalization())\n",
    "new_a_model.add(Activation('softmax'))\n",
    "#---------------------------------------------------------------------------------------"
   ]
  },
  {
   "cell_type": "code",
   "execution_count": 26,
   "metadata": {},
   "outputs": [],
   "source": [
    "batch_size = 32\n",
    "epochs = 50\n",
    "\n",
    "#Define your optimizar parameters:\n",
    "AdamOpt = Adam(lr=learn_rate,decay=decay)\n",
    "#Compile the network: \n"
   ]
  },
  {
   "cell_type": "code",
   "execution_count": 27,
   "metadata": {},
   "outputs": [
    {
     "name": "stdout",
     "output_type": "stream",
     "text": [
      "Train on 6474 samples, validate on 1728 samples\n",
      "Epoch 1/50\n",
      "6474/6474 [==============================] - 3s 447us/sample - loss: 0.4532 - acc: 0.7974 - val_loss: 0.4974 - val_acc: 0.7494\n",
      "Epoch 2/50\n",
      "6474/6474 [==============================] - 2s 359us/sample - loss: 0.3624 - acc: 0.8520 - val_loss: 0.3755 - val_acc: 0.8471\n",
      "Epoch 3/50\n",
      "6474/6474 [==============================] - 2s 355us/sample - loss: 0.3361 - acc: 0.8689 - val_loss: 0.3421 - val_acc: 0.8730\n",
      "Epoch 4/50\n",
      "6474/6474 [==============================] - 2s 364us/sample - loss: 0.3230 - acc: 0.8767 - val_loss: 0.3137 - val_acc: 0.8876\n",
      "Epoch 5/50\n",
      "6474/6474 [==============================] - 2s 356us/sample - loss: 0.3130 - acc: 0.8842 - val_loss: 0.3022 - val_acc: 0.8957\n",
      "Epoch 6/50\n",
      "6474/6474 [==============================] - 2s 359us/sample - loss: 0.3044 - acc: 0.8899 - val_loss: 0.3010 - val_acc: 0.8951\n",
      "Epoch 7/50\n",
      "6474/6474 [==============================] - 2s 357us/sample - loss: 0.2982 - acc: 0.8942 - val_loss: 0.2870 - val_acc: 0.9036\n",
      "Epoch 8/50\n",
      "6474/6474 [==============================] - 2s 360us/sample - loss: 0.2906 - acc: 0.8976 - val_loss: 0.2821 - val_acc: 0.9023\n",
      "Epoch 9/50\n",
      "6474/6474 [==============================] - 2s 342us/sample - loss: 0.2871 - acc: 0.9013 - val_loss: 0.2796 - val_acc: 0.9071\n",
      "Epoch 10/50\n",
      "6474/6474 [==============================] - 2s 350us/sample - loss: 0.2818 - acc: 0.9034 - val_loss: 0.2710 - val_acc: 0.9120\n",
      "Epoch 11/50\n",
      "6474/6474 [==============================] - 2s 349us/sample - loss: 0.2776 - acc: 0.9060 - val_loss: 0.2658 - val_acc: 0.9128\n",
      "Epoch 12/50\n",
      "6474/6474 [==============================] - 2s 356us/sample - loss: 0.2729 - acc: 0.9094 - val_loss: 0.2633 - val_acc: 0.9158\n",
      "Epoch 13/50\n",
      "6474/6474 [==============================] - 2s 361us/sample - loss: 0.2691 - acc: 0.9092 - val_loss: 0.2578 - val_acc: 0.9198\n",
      "Epoch 14/50\n",
      "6474/6474 [==============================] - 2s 359us/sample - loss: 0.2626 - acc: 0.9142 - val_loss: 0.2569 - val_acc: 0.9181\n",
      "Epoch 15/50\n",
      "6474/6474 [==============================] - 2s 354us/sample - loss: 0.2622 - acc: 0.9151 - val_loss: 0.2533 - val_acc: 0.9232\n",
      "Epoch 16/50\n",
      "6474/6474 [==============================] - 2s 348us/sample - loss: 0.2579 - acc: 0.9181 - val_loss: 0.2501 - val_acc: 0.9240\n",
      "Epoch 17/50\n",
      "6474/6474 [==============================] - 2s 372us/sample - loss: 0.2528 - acc: 0.9208 - val_loss: 0.2525 - val_acc: 0.9216\n",
      "Epoch 18/50\n",
      "6474/6474 [==============================] - 2s 372us/sample - loss: 0.2523 - acc: 0.9210 - val_loss: 0.2434 - val_acc: 0.9281\n",
      "Epoch 19/50\n",
      "6474/6474 [==============================] - 2s 361us/sample - loss: 0.2494 - acc: 0.9220 - val_loss: 0.2452 - val_acc: 0.9271\n",
      "Epoch 20/50\n",
      "6474/6474 [==============================] - 2s 362us/sample - loss: 0.2463 - acc: 0.9247 - val_loss: 0.2425 - val_acc: 0.9284\n",
      "Epoch 21/50\n",
      "6474/6474 [==============================] - 2s 369us/sample - loss: 0.2443 - acc: 0.9253 - val_loss: 0.2376 - val_acc: 0.9281\n",
      "Epoch 22/50\n",
      "6474/6474 [==============================] - 2s 367us/sample - loss: 0.2414 - acc: 0.9276 - val_loss: 0.2332 - val_acc: 0.9323\n",
      "Epoch 23/50\n",
      "6474/6474 [==============================] - 2s 373us/sample - loss: 0.2402 - acc: 0.9287 - val_loss: 0.2326 - val_acc: 0.9326\n",
      "Epoch 24/50\n",
      "6474/6474 [==============================] - 2s 363us/sample - loss: 0.2368 - acc: 0.9305 - val_loss: 0.2299 - val_acc: 0.9356\n",
      "Epoch 25/50\n",
      "6474/6474 [==============================] - 2s 369us/sample - loss: 0.2345 - acc: 0.9327 - val_loss: 0.2281 - val_acc: 0.9346\n",
      "Epoch 26/50\n",
      "6474/6474 [==============================] - 2s 371us/sample - loss: 0.2333 - acc: 0.9316 - val_loss: 0.2257 - val_acc: 0.9376\n",
      "Epoch 27/50\n",
      "6474/6474 [==============================] - 2s 369us/sample - loss: 0.2315 - acc: 0.9334 - val_loss: 0.2262 - val_acc: 0.9362\n",
      "Epoch 28/50\n",
      "6474/6474 [==============================] - 2s 355us/sample - loss: 0.2300 - acc: 0.9332 - val_loss: 0.2249 - val_acc: 0.9358\n",
      "Epoch 29/50\n",
      "6474/6474 [==============================] - 2s 360us/sample - loss: 0.2266 - acc: 0.9361 - val_loss: 0.2213 - val_acc: 0.9389\n",
      "Epoch 30/50\n",
      "6474/6474 [==============================] - 2s 361us/sample - loss: 0.2254 - acc: 0.9373 - val_loss: 0.2167 - val_acc: 0.9417\n",
      "Epoch 31/50\n",
      "6474/6474 [==============================] - 2s 366us/sample - loss: 0.2254 - acc: 0.9376 - val_loss: 0.2245 - val_acc: 0.9372\n",
      "Epoch 32/50\n",
      "6474/6474 [==============================] - 2s 362us/sample - loss: 0.2234 - acc: 0.9383 - val_loss: 0.2255 - val_acc: 0.9363\n",
      "Epoch 33/50\n",
      "6474/6474 [==============================] - 2s 354us/sample - loss: 0.2209 - acc: 0.9406 - val_loss: 0.2189 - val_acc: 0.9395\n",
      "Epoch 34/50\n",
      "6474/6474 [==============================] - 2s 358us/sample - loss: 0.2189 - acc: 0.9409 - val_loss: 0.2188 - val_acc: 0.9398\n",
      "Epoch 35/50\n",
      "6474/6474 [==============================] - 2s 352us/sample - loss: 0.2195 - acc: 0.9396 - val_loss: 0.2212 - val_acc: 0.9375\n",
      "Epoch 36/50\n",
      "6474/6474 [==============================] - 2s 348us/sample - loss: 0.2174 - acc: 0.9402 - val_loss: 0.2160 - val_acc: 0.9402\n",
      "Epoch 37/50\n",
      "6474/6474 [==============================] - 2s 352us/sample - loss: 0.2148 - acc: 0.9429 - val_loss: 0.2120 - val_acc: 0.9427\n",
      "Epoch 38/50\n",
      "6474/6474 [==============================] - 2s 345us/sample - loss: 0.2130 - acc: 0.9448 - val_loss: 0.2110 - val_acc: 0.9444\n",
      "Epoch 39/50\n",
      "6474/6474 [==============================] - 2s 351us/sample - loss: 0.2148 - acc: 0.9419 - val_loss: 0.2158 - val_acc: 0.9395\n",
      "Epoch 40/50\n",
      "6474/6474 [==============================] - 2s 347us/sample - loss: 0.2133 - acc: 0.9432 - val_loss: 0.2095 - val_acc: 0.9452\n",
      "Epoch 41/50\n",
      "6474/6474 [==============================] - 2s 348us/sample - loss: 0.2127 - acc: 0.9439 - val_loss: 0.2087 - val_acc: 0.9424\n",
      "Epoch 42/50\n",
      "6474/6474 [==============================] - 2s 349us/sample - loss: 0.2114 - acc: 0.9454 - val_loss: 0.2148 - val_acc: 0.9427\n",
      "Epoch 43/50\n",
      "6474/6474 [==============================] - 2s 353us/sample - loss: 0.2091 - acc: 0.9456 - val_loss: 0.2110 - val_acc: 0.9427\n",
      "Epoch 44/50\n",
      "6474/6474 [==============================] - 2s 353us/sample - loss: 0.2093 - acc: 0.9447 - val_loss: 0.2071 - val_acc: 0.9450\n",
      "Epoch 45/50\n",
      "6474/6474 [==============================] - 2s 350us/sample - loss: 0.2069 - acc: 0.9461 - val_loss: 0.2051 - val_acc: 0.9452\n",
      "Epoch 46/50\n",
      "6474/6474 [==============================] - 2s 347us/sample - loss: 0.2055 - acc: 0.9475 - val_loss: 0.2114 - val_acc: 0.9420\n",
      "Epoch 47/50\n",
      "6474/6474 [==============================] - 2s 340us/sample - loss: 0.2067 - acc: 0.9462 - val_loss: 0.2059 - val_acc: 0.9450\n",
      "Epoch 48/50\n",
      "6474/6474 [==============================] - 2s 349us/sample - loss: 0.2036 - acc: 0.9487 - val_loss: 0.2028 - val_acc: 0.9469\n",
      "Epoch 49/50\n",
      "6474/6474 [==============================] - 2s 349us/sample - loss: 0.2009 - acc: 0.9500 - val_loss: 0.2055 - val_acc: 0.9453\n",
      "Epoch 50/50\n",
      "6474/6474 [==============================] - 2s 341us/sample - loss: 0.2011 - acc: 0.9503 - val_loss: 0.1993 - val_acc: 0.9489\n",
      "175/175 [==============================] - 0s 105us/sample - loss: 0.3831 - acc: 0.8386\n",
      "[test loss, test accuracy]: [0.3830979345526014, 0.8385714]\n"
     ]
    }
   ],
   "source": [
    "#Preforming the training by using fit \n",
    "#--------------------------Impelment your code here:-------------------------------------\n",
    "new_a_model.compile(optimizer=AdamOpt,metrics=['accuracy'], loss='binary_crossentropy')\n",
    "history = new_a_model.fit(BaseX_train, BaseY_train, batch_size=batch_size, epochs=epochs, validation_data = (BaseX_val,BaseY_val))\n",
    "y_pred_test = new_a_model.predict(X_test)\n",
    "loss_and_acc = new_a_model.evaluate(X_test, Y_test, batch_size=batch_size)\n",
    "print(\"[test loss, test accuracy]:\", loss_and_acc)\n",
    "#----------------------------------------------------------------------------------------"
   ]
  },
  {
   "cell_type": "code",
   "execution_count": 28,
   "metadata": {},
   "outputs": [
    {
     "data": {
      "image/png": "[encoded data removed]",
      "text/plain": [
       "<Figure size 864x360 with 2 Axes>"
      ]
     },
     "metadata": {
      "needs_background": "light"
     },
     "output_type": "display_data"
    }
   ],
   "source": [
    "fig, axs = plt.subplots(1, 2, figsize=(12,5))\n",
    "\n",
    "axs[0].plot(history.history['acc'])\n",
    "axs[0].plot(history.history['val_acc'])\n",
    "axs[0].set_title('model accuracy')\n",
    "axs[0].set_ylabel('accuracy')\n",
    "axs[0].set_xlabel('epoch')\n",
    "axs[0].legend(['train', 'val'], loc='lower right')\n",
    "\n",
    "\n",
    "axs[1].plot(history.history['loss'])\n",
    "axs[1].plot(history.history['val_loss'])\n",
    "axs[1].set_title('model loss')\n",
    "axs[1].set_ylabel('loss')\n",
    "axs[1].set_xlabel('epoch')\n",
    "axs[1].legend(['train', 'val'], loc='upper right')\n",
    "\n",
    "plt.tight_layout()"
   ]
  },
  {
   "cell_type": "markdown",
   "metadata": {},
   "source": [
    "### PART 2: Convolutional Neural Network (CNN)\n",
    "------------------------------------------------------------------------------------"
   ]
  },
  {
   "cell_type": "markdown",
   "metadata": {},
   "source": [
    "---\n",
    "<span style=\"color:red\">***Task 1:***</span> *2D CNN.* \n",
    "\n",
    "Have a look at the model below and answer the following:\n",
    "* How many layers does it have?\n",
    "* How many filter in each layer?\n",
    "* Would the number of parmaters be similar to a fully connected NN?\n",
    "* Is this specific NN performing regularization?\n",
    "\n",
    "---"
   ]
  },
  {
   "cell_type": "code",
   "execution_count": 29,
   "metadata": {},
   "outputs": [],
   "source": [
    "def get_net(input_shape,drop,dropRate,reg):\n",
    "    #Defining the network architecture:\n",
    "    model = Sequential()\n",
    "    model.add(Permute((1,2,3),input_shape = input_shape))\n",
    "    model.add(Conv2D(filters=64, kernel_size=(3,3), padding='same', activation='relu',name='Conv2D_1',kernel_regularizer=regularizers.l2(reg)))\n",
    "    if drop:\n",
    "        model.add(Dropout(rate=dropRate))\n",
    "    model.add(BatchNormalization(axis=1))\n",
    "    model.add(MaxPooling2D(pool_size=(2, 2)))\n",
    "    model.add(Conv2D(filters=128, kernel_size=(3,3), padding='same', activation='relu',name='Conv2D_2',kernel_regularizer=regularizers.l2(reg)))\n",
    "    if drop:    \n",
    "        model.add(Dropout(rate=dropRate))\n",
    "    model.add(BatchNormalization(axis=1))\n",
    "    model.add(Conv2D(filters=128, kernel_size=(3,3), padding='same', activation='relu',name='Conv2D_3',kernel_regularizer=regularizers.l2(reg)))\n",
    "    if drop:\n",
    "        model.add(Dropout(rate=dropRate))\n",
    "    model.add(BatchNormalization(axis=1))\n",
    "    model.add(MaxPooling2D(pool_size=(2, 2)))\n",
    "    model.add(Conv2D(filters=256, kernel_size=(3,3), padding='same', activation='relu',name='Conv2D_4',kernel_regularizer=regularizers.l2(reg)))\n",
    "    if drop:\n",
    "        model.add(Dropout(rate=dropRate))\n",
    "    model.add(BatchNormalization(axis=1))\n",
    "    model.add(Conv2D(filters=256, kernel_size=(3,3), padding='same', activation='relu',name='Conv2D_5',kernel_regularizer=regularizers.l2(reg)))\n",
    "    if drop:\n",
    "        model.add(Dropout(rate=dropRate))\n",
    "    model.add(BatchNormalization(axis=1))\n",
    "    model.add(MaxPooling2D(pool_size=(2, 2)))\n",
    "    model.add(Flatten())\n",
    "    #Fully connected network tail:      \n",
    "    model.add(Dense(512, activation='elu',name='FCN_1')) \n",
    "    if drop:\n",
    "        model.add(Dropout(rate=dropRate))\n",
    "    model.add(Dense(128, activation='elu',name='FCN_2'))\n",
    "    model.add(Dense(4, activation= 'softmax',name='FCN_3'))\n",
    "    model.summary()\n",
    "    return model"
   ]
  },
  {
   "cell_type": "code",
   "execution_count": 30,
   "metadata": {},
   "outputs": [
    {
     "name": "stdout",
     "output_type": "stream",
     "text": [
      "WARNING:tensorflow:From /home/smorandv/anaconda3/envs/2ndPaper-t2/lib/python3.6/site-packages/tensorflow/python/keras/layers/core.py:143: calling dropout (from tensorflow.python.ops.nn_ops) with keep_prob is deprecated and will be removed in a future version.\n",
      "Instructions for updating:\n",
      "Please use `rate` instead of `keep_prob`. Rate should be set to `rate = 1 - keep_prob`.\n",
      "_________________________________________________________________\n",
      "Layer (type)                 Output Shape              Param #   \n",
      "=================================================================\n",
      "permute (Permute)            (None, 32, 32, 1)         0         \n",
      "_________________________________________________________________\n",
      "Conv2D_1 (Conv2D)            (None, 32, 32, 64)        640       \n",
      "_________________________________________________________________\n",
      "dropout (Dropout)            (None, 32, 32, 64)        0         \n",
      "_________________________________________________________________\n",
      "batch_normalization_v1_3 (Ba (None, 32, 32, 64)        128       \n",
      "_________________________________________________________________\n",
      "max_pooling2d (MaxPooling2D) (None, 16, 16, 64)        0         \n",
      "_________________________________________________________________\n",
      "Conv2D_2 (Conv2D)            (None, 16, 16, 128)       73856     \n",
      "_________________________________________________________________\n",
      "dropout_1 (Dropout)          (None, 16, 16, 128)       0         \n",
      "_________________________________________________________________\n",
      "batch_normalization_v1_4 (Ba (None, 16, 16, 128)       64        \n",
      "_________________________________________________________________\n",
      "Conv2D_3 (Conv2D)            (None, 16, 16, 128)       147584    \n",
      "_________________________________________________________________\n",
      "dropout_2 (Dropout)          (None, 16, 16, 128)       0         \n",
      "_________________________________________________________________\n",
      "batch_normalization_v1_5 (Ba (None, 16, 16, 128)       64        \n",
      "_________________________________________________________________\n",
      "max_pooling2d_1 (MaxPooling2 (None, 8, 8, 128)         0         \n",
      "_________________________________________________________________\n",
      "Conv2D_4 (Conv2D)            (None, 8, 8, 256)         295168    \n",
      "_________________________________________________________________\n",
      "dropout_3 (Dropout)          (None, 8, 8, 256)         0         \n",
      "_________________________________________________________________\n",
      "batch_normalization_v1_6 (Ba (None, 8, 8, 256)         32        \n",
      "_________________________________________________________________\n",
      "Conv2D_5 (Conv2D)            (None, 8, 8, 256)         590080    \n",
      "_________________________________________________________________\n",
      "dropout_4 (Dropout)          (None, 8, 8, 256)         0         \n",
      "_________________________________________________________________\n",
      "batch_normalization_v1_7 (Ba (None, 8, 8, 256)         32        \n",
      "_________________________________________________________________\n",
      "max_pooling2d_2 (MaxPooling2 (None, 4, 4, 256)         0         \n",
      "_________________________________________________________________\n",
      "flatten_1 (Flatten)          (None, 4096)              0         \n",
      "_________________________________________________________________\n",
      "FCN_1 (Dense)                (None, 512)               2097664   \n",
      "_________________________________________________________________\n",
      "dropout_5 (Dropout)          (None, 512)               0         \n",
      "_________________________________________________________________\n",
      "FCN_2 (Dense)                (None, 128)               65664     \n",
      "_________________________________________________________________\n",
      "FCN_3 (Dense)                (None, 4)                 516       \n",
      "=================================================================\n",
      "Total params: 3,271,492\n",
      "Trainable params: 3,271,332\n",
      "Non-trainable params: 160\n",
      "_________________________________________________________________\n"
     ]
    }
   ],
   "source": [
    "input_shape = (32,32,1)\n",
    "learn_rate = 1e-5\n",
    "decay = 1e-03\n",
    "batch_size = 64\n",
    "epochs = 25\n",
    "drop = True\n",
    "dropRate = 0.3\n",
    "reg = 1e-2\n",
    "NNet = get_net(input_shape,drop,dropRate,reg)"
   ]
  },
  {
   "cell_type": "code",
   "execution_count": 31,
   "metadata": {
    "pycharm": {
     "is_executing": false
    },
    "scrolled": true
   },
   "outputs": [
    {
     "name": "stdout",
     "output_type": "stream",
     "text": [
      "_________________________________________________________________\n",
      "Layer (type)                 Output Shape              Param #   \n",
      "=================================================================\n",
      "permute_1 (Permute)          (None, 32, 32, 1)         0         \n",
      "_________________________________________________________________\n",
      "Conv2D_1 (Conv2D)            (None, 32, 32, 64)        640       \n",
      "_________________________________________________________________\n",
      "dropout_6 (Dropout)          (None, 32, 32, 64)        0         \n",
      "_________________________________________________________________\n",
      "batch_normalization_v1_8 (Ba (None, 32, 32, 64)        128       \n",
      "_________________________________________________________________\n",
      "max_pooling2d_3 (MaxPooling2 (None, 16, 16, 64)        0         \n",
      "_________________________________________________________________\n",
      "Conv2D_2 (Conv2D)            (None, 16, 16, 128)       73856     \n",
      "_________________________________________________________________\n",
      "dropout_7 (Dropout)          (None, 16, 16, 128)       0         \n",
      "_________________________________________________________________\n",
      "batch_normalization_v1_9 (Ba (None, 16, 16, 128)       64        \n",
      "_________________________________________________________________\n",
      "Conv2D_3 (Conv2D)            (None, 16, 16, 128)       147584    \n",
      "_________________________________________________________________\n",
      "dropout_8 (Dropout)          (None, 16, 16, 128)       0         \n",
      "_________________________________________________________________\n",
      "batch_normalization_v1_10 (B (None, 16, 16, 128)       64        \n",
      "_________________________________________________________________\n",
      "max_pooling2d_4 (MaxPooling2 (None, 8, 8, 128)         0         \n",
      "_________________________________________________________________\n",
      "Conv2D_4 (Conv2D)            (None, 8, 8, 256)         295168    \n",
      "_________________________________________________________________\n",
      "dropout_9 (Dropout)          (None, 8, 8, 256)         0         \n",
      "_________________________________________________________________\n",
      "batch_normalization_v1_11 (B (None, 8, 8, 256)         32        \n",
      "_________________________________________________________________\n",
      "Conv2D_5 (Conv2D)            (None, 8, 8, 256)         590080    \n",
      "_________________________________________________________________\n",
      "dropout_10 (Dropout)         (None, 8, 8, 256)         0         \n",
      "_________________________________________________________________\n",
      "batch_normalization_v1_12 (B (None, 8, 8, 256)         32        \n",
      "_________________________________________________________________\n",
      "max_pooling2d_5 (MaxPooling2 (None, 4, 4, 256)         0         \n",
      "_________________________________________________________________\n",
      "flatten_2 (Flatten)          (None, 4096)              0         \n",
      "_________________________________________________________________\n",
      "FCN_1 (Dense)                (None, 512)               2097664   \n",
      "_________________________________________________________________\n",
      "dropout_11 (Dropout)         (None, 512)               0         \n",
      "_________________________________________________________________\n",
      "FCN_2 (Dense)                (None, 128)               65664     \n",
      "_________________________________________________________________\n",
      "FCN_3 (Dense)                (None, 4)                 516       \n",
      "=================================================================\n",
      "Total params: 3,271,492\n",
      "Trainable params: 3,271,332\n",
      "Non-trainable params: 160\n",
      "_________________________________________________________________\n"
     ]
    }
   ],
   "source": [
    "NNet=get_net(input_shape,drop,dropRate,reg)"
   ]
  },
  {
   "cell_type": "code",
   "execution_count": 32,
   "metadata": {
    "pycharm": {
     "is_executing": false
    }
   },
   "outputs": [],
   "source": [
    "from tensorflow.keras.optimizers import *\n",
    "import os\n",
    "from tensorflow.keras.callbacks import *\n",
    "\n",
    "#Defining the optimizar parameters:\n",
    "AdamOpt = Adam(lr=learn_rate,decay=decay)\n",
    "\n",
    "#Compile the network: \n",
    "NNet.compile(optimizer=AdamOpt, metrics=['acc'], loss='categorical_crossentropy')\n",
    "\n",
    "#Saving checkpoints during training:\n",
    "Checkpath = os.getcwd()\n",
    "Checkp = ModelCheckpoint(Checkpath, monitor='val_acc', verbose=1, save_best_only=True, save_weights_only=True)"
   ]
  },
  {
   "cell_type": "code",
   "execution_count": 33,
   "metadata": {},
   "outputs": [
    {
     "name": "stdout",
     "output_type": "stream",
     "text": [
      "Train on 6474 samples, validate on 1728 samples\n",
      "Epoch 1/25\n",
      "6474/6474 [==============================] - 5s 758us/sample - loss: 7.9283 - acc: 0.4445 - val_loss: 8.0354 - val_acc: 0.2500\n",
      "Epoch 2/25\n",
      "6474/6474 [==============================] - 2s 350us/sample - loss: 7.5191 - acc: 0.5565 - val_loss: 8.2667 - val_acc: 0.2500\n",
      "Epoch 3/25\n",
      "6474/6474 [==============================] - 2s 353us/sample - loss: 7.3680 - acc: 0.5910 - val_loss: 8.3179 - val_acc: 0.2546\n",
      "Epoch 4/25\n",
      "6474/6474 [==============================] - 2s 352us/sample - loss: 7.2625 - acc: 0.6398 - val_loss: 8.3713 - val_acc: 0.2679\n",
      "Epoch 5/25\n",
      "6474/6474 [==============================] - 2s 348us/sample - loss: 7.1669 - acc: 0.6532 - val_loss: 8.2432 - val_acc: 0.3223\n",
      "Epoch 6/25\n",
      "6474/6474 [==============================] - 2s 352us/sample - loss: 7.0901 - acc: 0.6792 - val_loss: 8.0273 - val_acc: 0.3339\n",
      "Epoch 7/25\n",
      "6474/6474 [==============================] - 2s 347us/sample - loss: 7.0339 - acc: 0.6905 - val_loss: 7.8442 - val_acc: 0.3472\n",
      "Epoch 8/25\n",
      "6474/6474 [==============================] - 2s 353us/sample - loss: 6.9718 - acc: 0.7045 - val_loss: 7.7554 - val_acc: 0.3935\n",
      "Epoch 9/25\n",
      "6474/6474 [==============================] - 2s 352us/sample - loss: 6.9262 - acc: 0.7138 - val_loss: 7.7188 - val_acc: 0.3785\n",
      "Epoch 10/25\n",
      "6474/6474 [==============================] - 2s 349us/sample - loss: 6.8791 - acc: 0.7254 - val_loss: 7.7144 - val_acc: 0.3600\n",
      "Epoch 11/25\n",
      "6474/6474 [==============================] - 2s 348us/sample - loss: 6.8183 - acc: 0.7470 - val_loss: 7.7308 - val_acc: 0.3727\n",
      "Epoch 12/25\n",
      "6474/6474 [==============================] - 2s 349us/sample - loss: 6.7726 - acc: 0.7512 - val_loss: 7.6909 - val_acc: 0.3831\n",
      "Epoch 13/25\n",
      "6474/6474 [==============================] - 2s 347us/sample - loss: 6.7446 - acc: 0.7598 - val_loss: 7.7055 - val_acc: 0.3559\n",
      "Epoch 14/25\n",
      "6474/6474 [==============================] - 2s 355us/sample - loss: 6.6968 - acc: 0.7665 - val_loss: 7.6819 - val_acc: 0.3582\n",
      "Epoch 15/25\n",
      "6474/6474 [==============================] - 2s 347us/sample - loss: 6.6638 - acc: 0.7728 - val_loss: 7.6568 - val_acc: 0.3663\n",
      "Epoch 16/25\n",
      "6474/6474 [==============================] - 2s 350us/sample - loss: 6.6413 - acc: 0.7783 - val_loss: 7.6567 - val_acc: 0.3681\n",
      "Epoch 17/25\n",
      "6474/6474 [==============================] - 2s 345us/sample - loss: 6.5950 - acc: 0.7879 - val_loss: 7.6712 - val_acc: 0.3582\n",
      "Epoch 18/25\n",
      "6474/6474 [==============================] - 2s 349us/sample - loss: 6.5595 - acc: 0.7890 - val_loss: 7.6343 - val_acc: 0.3646\n",
      "Epoch 19/25\n",
      "6474/6474 [==============================] - 2s 344us/sample - loss: 6.5304 - acc: 0.7987 - val_loss: 7.6659 - val_acc: 0.3571\n",
      "Epoch 20/25\n",
      "6474/6474 [==============================] - 2s 346us/sample - loss: 6.5105 - acc: 0.8007 - val_loss: 7.6250 - val_acc: 0.3657\n",
      "Epoch 21/25\n",
      "6474/6474 [==============================] - 2s 345us/sample - loss: 6.4545 - acc: 0.8193 - val_loss: 7.5858 - val_acc: 0.3721\n",
      "Epoch 22/25\n",
      "6474/6474 [==============================] - 2s 345us/sample - loss: 6.4495 - acc: 0.8142 - val_loss: 7.5557 - val_acc: 0.3762\n",
      "Epoch 23/25\n",
      "6474/6474 [==============================] - 2s 352us/sample - loss: 6.4199 - acc: 0.8168 - val_loss: 7.5821 - val_acc: 0.3692\n",
      "Epoch 24/25\n",
      "6474/6474 [==============================] - 2s 340us/sample - loss: 6.4084 - acc: 0.8120 - val_loss: 7.5435 - val_acc: 0.3744\n",
      "Epoch 25/25\n",
      "6474/6474 [==============================] - 2s 341us/sample - loss: 6.3648 - acc: 0.8264 - val_loss: 7.5084 - val_acc: 0.3987\n"
     ]
    }
   ],
   "source": [
    "#Preforming the training by using fit \n",
    "# IMPORTANT NOTE: This will take a few minutes!\n",
    "h = NNet.fit(x=BaseX_train, y=BaseY_train, batch_size=batch_size, epochs=epochs, verbose=1, validation_split=0, validation_data = (BaseX_val, BaseY_val), shuffle=True)\n",
    "#NNet.save(model_fn)"
   ]
  },
  {
   "cell_type": "code",
   "execution_count": 34,
   "metadata": {
    "pycharm": {
     "is_executing": false
    }
   },
   "outputs": [],
   "source": [
    "# NNet.load_weights('Weights_1.h5')"
   ]
  },
  {
   "cell_type": "code",
   "execution_count": 35,
   "metadata": {
    "pycharm": {
     "is_executing": false
    }
   },
   "outputs": [
    {
     "name": "stdout",
     "output_type": "stream",
     "text": [
      "175/175 [==============================] - 0s 458us/sample - loss: 7.9460 - acc: 0.2743\n",
      "test loss, test acc: [7.945970437186105, 0.2742857]\n"
     ]
    }
   ],
   "source": [
    "results = NNet.evaluate(X_test,Y_test)\n",
    "print('test loss, test acc:', results)"
   ]
  },
  {
   "cell_type": "markdown",
   "metadata": {},
   "source": [
    "---\n",
    "<span style=\"color:red\">***Task 2:***</span> *Number of filters* \n",
    "\n",
    "Rebuild the function `get_net` to have as an input argument a list of number of filters in each layers, i.e. for the CNN defined above the input should have been `[64, 128, 128, 256, 256]`. Now train the model with the number of filters reduced by half. What were the results.\n",
    "\n",
    "---"
   ]
  },
  {
   "cell_type": "code",
   "execution_count": 37,
   "metadata": {},
   "outputs": [
    {
     "name": "stdout",
     "output_type": "stream",
     "text": [
      "_________________________________________________________________\n",
      "Layer (type)                 Output Shape              Param #   \n",
      "=================================================================\n",
      "permute_3 (Permute)          (None, 32, 32, 1)         0         \n",
      "_________________________________________________________________\n",
      "Conv2D_1 (Conv2D)            (None, 32, 32, 32)        320       \n",
      "_________________________________________________________________\n",
      "dropout_18 (Dropout)         (None, 32, 32, 32)        0         \n",
      "_________________________________________________________________\n",
      "batch_normalization_v1_18 (B (None, 32, 32, 32)        128       \n",
      "_________________________________________________________________\n",
      "max_pooling2d_9 (MaxPooling2 (None, 16, 16, 32)        0         \n",
      "_________________________________________________________________\n",
      "Conv2D_2 (Conv2D)            (None, 16, 16, 64)        18496     \n",
      "_________________________________________________________________\n",
      "dropout_19 (Dropout)         (None, 16, 16, 64)        0         \n",
      "_________________________________________________________________\n",
      "batch_normalization_v1_19 (B (None, 16, 16, 64)        64        \n",
      "_________________________________________________________________\n",
      "Conv2D_3 (Conv2D)            (None, 16, 16, 64)        36928     \n",
      "_________________________________________________________________\n",
      "dropout_20 (Dropout)         (None, 16, 16, 64)        0         \n",
      "_________________________________________________________________\n",
      "batch_normalization_v1_20 (B (None, 16, 16, 64)        64        \n",
      "_________________________________________________________________\n",
      "max_pooling2d_10 (MaxPooling (None, 8, 8, 64)          0         \n",
      "_________________________________________________________________\n",
      "Conv2D_4 (Conv2D)            (None, 8, 8, 128)         73856     \n",
      "_________________________________________________________________\n",
      "dropout_21 (Dropout)         (None, 8, 8, 128)         0         \n",
      "_________________________________________________________________\n",
      "batch_normalization_v1_21 (B (None, 8, 8, 128)         32        \n",
      "_________________________________________________________________\n",
      "Conv2D_5 (Conv2D)            (None, 8, 8, 128)         147584    \n",
      "_________________________________________________________________\n",
      "dropout_22 (Dropout)         (None, 8, 8, 128)         0         \n",
      "_________________________________________________________________\n",
      "batch_normalization_v1_22 (B (None, 8, 8, 128)         32        \n",
      "_________________________________________________________________\n",
      "max_pooling2d_11 (MaxPooling (None, 4, 4, 128)         0         \n",
      "_________________________________________________________________\n",
      "flatten_4 (Flatten)          (None, 2048)              0         \n",
      "_________________________________________________________________\n",
      "FCN_1 (Dense)                (None, 512)               1049088   \n",
      "_________________________________________________________________\n",
      "dropout_23 (Dropout)         (None, 512)               0         \n",
      "_________________________________________________________________\n",
      "FCN_2 (Dense)                (None, 128)               65664     \n",
      "_________________________________________________________________\n",
      "FCN_3 (Dense)                (None, 4)                 516       \n",
      "=================================================================\n",
      "Total params: 1,392,772\n",
      "Trainable params: 1,392,612\n",
      "Non-trainable params: 160\n",
      "_________________________________________________________________\n",
      "Train on 6474 samples, validate on 1728 samples\n",
      "Epoch 1/25\n",
      "6474/6474 [==============================] - 5s 736us/sample - loss: 5.0476 - acc: 0.3766 - val_loss: 4.7825 - val_acc: 0.2500\n",
      "Epoch 2/25\n",
      "6474/6474 [==============================] - 2s 367us/sample - loss: 4.6712 - acc: 0.4614 - val_loss: 5.0309 - val_acc: 0.2500\n",
      "Epoch 3/25\n",
      "6474/6474 [==============================] - 2s 348us/sample - loss: 4.5353 - acc: 0.4989 - val_loss: 5.1380 - val_acc: 0.2500\n",
      "Epoch 4/25\n",
      "6474/6474 [==============================] - 2s 342us/sample - loss: 4.4354 - acc: 0.5236 - val_loss: 5.0648 - val_acc: 0.2500\n",
      "Epoch 5/25\n",
      "6474/6474 [==============================] - 2s 330us/sample - loss: 4.3488 - acc: 0.5544 - val_loss: 4.8317 - val_acc: 0.2506\n",
      "Epoch 6/25\n",
      "6474/6474 [==============================] - 2s 338us/sample - loss: 4.2972 - acc: 0.5658 - val_loss: 4.6558 - val_acc: 0.2888\n",
      "Epoch 7/25\n",
      "6474/6474 [==============================] - 2s 361us/sample - loss: 4.2089 - acc: 0.5973 - val_loss: 4.5493 - val_acc: 0.3414\n",
      "Epoch 8/25\n",
      "6474/6474 [==============================] - 2s 337us/sample - loss: 4.1840 - acc: 0.6052 - val_loss: 4.4798 - val_acc: 0.3773\n",
      "Epoch 9/25\n",
      "6474/6474 [==============================] - 2s 368us/sample - loss: 4.1398 - acc: 0.6154 - val_loss: 4.4556 - val_acc: 0.3872\n",
      "Epoch 10/25\n",
      "6474/6474 [==============================] - 2s 346us/sample - loss: 4.1048 - acc: 0.6253 - val_loss: 4.4520 - val_acc: 0.3947\n",
      "Epoch 11/25\n",
      "6474/6474 [==============================] - 2s 346us/sample - loss: 4.0795 - acc: 0.6318 - val_loss: 4.4431 - val_acc: 0.4022\n",
      "Epoch 12/25\n",
      "6474/6474 [==============================] - 2s 336us/sample - loss: 4.0670 - acc: 0.6480 - val_loss: 4.4527 - val_acc: 0.4010\n",
      "Epoch 13/25\n",
      "6474/6474 [==============================] - 2s 345us/sample - loss: 4.0152 - acc: 0.6580 - val_loss: 4.4478 - val_acc: 0.4062\n",
      "Epoch 14/25\n",
      "6474/6474 [==============================] - 2s 326us/sample - loss: 4.0093 - acc: 0.6614 - val_loss: 4.4480 - val_acc: 0.4057\n",
      "Epoch 15/25\n",
      "6474/6474 [==============================] - 2s 329us/sample - loss: 3.9730 - acc: 0.6699 - val_loss: 4.4286 - val_acc: 0.4132\n",
      "Epoch 16/25\n",
      "6474/6474 [==============================] - 2s 336us/sample - loss: 3.9747 - acc: 0.6747 - val_loss: 4.4221 - val_acc: 0.4184\n",
      "Epoch 17/25\n",
      "6474/6474 [==============================] - 2s 341us/sample - loss: 3.9295 - acc: 0.6849 - val_loss: 4.4289 - val_acc: 0.4138\n",
      "Epoch 18/25\n",
      "6474/6474 [==============================] - 2s 323us/sample - loss: 3.9340 - acc: 0.6812 - val_loss: 4.4173 - val_acc: 0.4253\n",
      "Epoch 19/25\n",
      "6474/6474 [==============================] - 2s 325us/sample - loss: 3.9113 - acc: 0.6855 - val_loss: 4.4176 - val_acc: 0.4306\n",
      "Epoch 20/25\n",
      "6474/6474 [==============================] - 2s 331us/sample - loss: 3.8982 - acc: 0.6948 - val_loss: 4.4190 - val_acc: 0.4363\n",
      "Epoch 21/25\n",
      "6474/6474 [==============================] - 2s 330us/sample - loss: 3.8811 - acc: 0.6974 - val_loss: 4.4166 - val_acc: 0.4410\n",
      "Epoch 22/25\n",
      "6474/6474 [==============================] - 2s 334us/sample - loss: 3.8611 - acc: 0.7036 - val_loss: 4.4162 - val_acc: 0.4387\n",
      "Epoch 23/25\n",
      "6474/6474 [==============================] - 2s 337us/sample - loss: 3.8363 - acc: 0.7093 - val_loss: 4.4118 - val_acc: 0.4410\n",
      "Epoch 24/25\n",
      "6474/6474 [==============================] - 2s 325us/sample - loss: 3.8332 - acc: 0.7125 - val_loss: 4.4019 - val_acc: 0.4583\n",
      "Epoch 25/25\n",
      "6474/6474 [==============================] - 2s 332us/sample - loss: 3.8263 - acc: 0.7175 - val_loss: 4.3909 - val_acc: 0.4595\n",
      "175/175 [==============================] - 0s 189us/sample - loss: 4.7857 - acc: 0.3314\n",
      "test loss, test acc: [4.785741686139788, 0.33142856]\n"
     ]
    }
   ],
   "source": [
    "#--------------------------Impelment your code here:-------------------------------------\n",
    "def get_net1(input_shape,drop,dropRate,reg):\n",
    "    #Defining the network architecture:\n",
    "    model = Sequential()\n",
    "    model.add(Permute((1,2,3),input_shape = input_shape))\n",
    "    model.add(Conv2D(filters=32, kernel_size=(3,3), padding='same', activation='relu',name='Conv2D_1',kernel_regularizer=regularizers.l2(reg)))\n",
    "    if drop:\n",
    "        model.add(Dropout(rate=dropRate))\n",
    "    model.add(BatchNormalization(axis=1))\n",
    "    model.add(MaxPooling2D(pool_size=(2, 2)))\n",
    "    model.add(Conv2D(filters=64, kernel_size=(3,3), padding='same', activation='relu',name='Conv2D_2',kernel_regularizer=regularizers.l2(reg)))\n",
    "    if drop:    \n",
    "        model.add(Dropout(rate=dropRate))\n",
    "    model.add(BatchNormalization(axis=1))\n",
    "    model.add(Conv2D(filters=64, kernel_size=(3,3), padding='same', activation='relu',name='Conv2D_3',kernel_regularizer=regularizers.l2(reg)))\n",
    "    if drop:\n",
    "        model.add(Dropout(rate=dropRate))\n",
    "    model.add(BatchNormalization(axis=1))\n",
    "    model.add(MaxPooling2D(pool_size=(2, 2)))\n",
    "    model.add(Conv2D(filters=128, kernel_size=(3,3), padding='same', activation='relu',name='Conv2D_4',kernel_regularizer=regularizers.l2(reg)))\n",
    "    if drop:\n",
    "        model.add(Dropout(rate=dropRate))\n",
    "    model.add(BatchNormalization(axis=1))\n",
    "    model.add(Conv2D(filters=128, kernel_size=(3,3), padding='same', activation='relu',name='Conv2D_5',kernel_regularizer=regularizers.l2(reg)))\n",
    "    if drop:\n",
    "        model.add(Dropout(rate=dropRate))\n",
    "    model.add(BatchNormalization(axis=1))\n",
    "    model.add(MaxPooling2D(pool_size=(2, 2)))\n",
    "    model.add(Flatten())\n",
    "    #Fully connected network tail:      \n",
    "    model.add(Dense(512, activation='elu',name='FCN_1')) \n",
    "    if drop:\n",
    "        model.add(Dropout(rate=dropRate))\n",
    "    model.add(Dense(128, activation='elu',name='FCN_2'))\n",
    "    model.add(Dense(4, activation= 'softmax',name='FCN_3'))\n",
    "    model.summary()\n",
    "    return model\n",
    "\n",
    "input_shape = (32,32,1)\n",
    "learn_rate = 1e-5\n",
    "decay = 1e-03\n",
    "batch_size = 64\n",
    "epochs = 25\n",
    "drop = True\n",
    "dropRate = 0.3\n",
    "reg = 1e-2\n",
    "NNet_new = get_net1(input_shape,drop,dropRate,reg)\n",
    "\n",
    "#Defining the optimizar parameters:\n",
    "AdamOpt = Adam(lr=learn_rate,decay=decay)\n",
    "\n",
    "#Compile the network: \n",
    "NNet_new.compile(optimizer=AdamOpt, metrics=['acc'], loss='categorical_crossentropy')\n",
    "\n",
    "#Saving checkpoints during training:\n",
    "Checkpath = os.getcwd()\n",
    "Checkp = ModelCheckpoint(Checkpath, monitor='val_acc', verbose=1, save_best_only=True, save_weights_only=True)\n",
    "h = NNet_new.fit(x=BaseX_train, y=BaseY_train, batch_size=batch_size, epochs=epochs, verbose=1, validation_split=0, validation_data = (BaseX_val, BaseY_val), shuffle=True)\n",
    "results = NNet_new.evaluate(X_test,Y_test)\n",
    "print('test loss, test acc:', results)\n",
    "#----------------------------------------------------------------------------------------"
   ]
  },
  {
   "cell_type": "markdown",
   "metadata": {},
   "source": [
    "That's all folks! See you :)"
   ]
  }
 ],
 "metadata": {
  "kernelspec": {
   "display_name": "Python 3",
   "language": "python",
   "name": "python3"
  },
  "language_info": {
   "codemirror_mode": {
    "name": "ipython",
    "version": 3
   },
   "file_extension": ".py",
   "mimetype": "text/x-python",
   "name": "python",
   "nbconvert_exporter": "python",
   "pygments_lexer": "ipython3",
   "version": "3.7.6"
  },
  "pycharm": {
   "stem_cell": {
    "cell_type": "raw",
    "metadata": {
     "collapsed": false
    },
    "source": []
   }
  }
 },
 "nbformat": 4,
 "nbformat_minor": 4
}
